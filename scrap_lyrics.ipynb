{
 "cells": [
  {
   "attachments": {},
   "cell_type": "markdown",
   "metadata": {},
   "source": [
    "# Scrape Rap Song Lyrics From Genius.com"
   ]
  },
  {
   "cell_type": "code",
   "execution_count": 7,
   "metadata": {},
   "outputs": [],
   "source": [
    "GENIUS_API_TOKEN = 'aW0h5orSEm64_BQgGvxl7Zfyv9iJqIewJXrQYNjY9NohhA-FneZG3tImuGJXsWkP'"
   ]
  },
  {
   "cell_type": "code",
   "execution_count": 8,
   "metadata": {},
   "outputs": [],
   "source": [
    "import requests\n",
    "from bs4 import BeautifulSoup\n",
    "import os\n",
    "import re"
   ]
  },
  {
   "attachments": {},
   "cell_type": "markdown",
   "metadata": {},
   "source": [
    "### Get a list of song URL's for an artist\n",
    "\n",
    "potential improvement: what if the artist name doesn't match the exact writing or even missplled?"
   ]
  },
  {
   "cell_type": "code",
   "execution_count": 9,
   "metadata": {},
   "outputs": [],
   "source": [
    "## Get artist object from Genius API\n",
    "def request_artist_info(artist_name, page):\n",
    "    base_url = 'https://api.genius.com'\n",
    "    headers = {'Authorization': 'Bearer ' + GENIUS_API_TOKEN}\n",
    "    search_url = base_url + '/search?per_page=10&page=' + str(page)\n",
    "    data = {'q': artist_name}\n",
    "    response = requests.get(search_url, data=data, headers=headers)\n",
    "\n",
    "    return response\n",
    "\n",
    "## Get Genius.com song URL's from artist object\n",
    "def request_song_url(artist_name, page_cap):\n",
    "    page = 1\n",
    "    songs = []  # to store song URL's\n",
    "\n",
    "    while True:\n",
    "        response = request_artist_info(artist_name, page)\n",
    "        json = response.json()\n",
    "\n",
    "        ## Collect up to page_cap song objects from the artist\n",
    "        song_info = []\n",
    "        for hit in json['response']['hits']:\n",
    "            if artist_name.lower() in hit['result']['primary_artist']['name'].lower():\n",
    "                song_info.append(hit)\n",
    "        \n",
    "        ## Collect song URL's from song objects\n",
    "        for song in song_info:\n",
    "            if len(songs) < page_cap:\n",
    "                url = song['result']['url']\n",
    "                songs.append(url)\n",
    "        \n",
    "        if len(songs) == page_cap:\n",
    "            break\n",
    "        else:\n",
    "            page += 1\n",
    "        \n",
    "    print(\"Found {} songs by {}\".format(len(songs), artist_name))\n",
    "    return songs\n"
   ]
  },
  {
   "cell_type": "code",
   "execution_count": 28,
   "metadata": {},
   "outputs": [
    {
     "name": "stdout",
     "output_type": "stream",
     "text": [
      "Found 20 songs by Roddy Ricch\n"
     ]
    },
    {
     "data": {
      "text/plain": [
       "['https://genius.com/Roddy-ricch-the-box-lyrics',\n",
       " 'https://genius.com/Mustard-and-roddy-ricch-ballin-lyrics',\n",
       " 'https://genius.com/Roddy-ricch-high-fashion-lyrics',\n",
       " 'https://genius.com/Roddy-ricch-every-season-lyrics',\n",
       " 'https://genius.com/Roddy-ricch-die-young-lyrics',\n",
       " 'https://genius.com/Roddy-ricch-start-wit-me-lyrics',\n",
       " 'https://genius.com/Roddy-ricch-ricch-forever-lyrics',\n",
       " 'https://genius.com/Roddy-ricch-down-below-lyrics',\n",
       " 'https://genius.com/Roddy-ricch-tip-toe-lyrics',\n",
       " 'https://genius.com/Roddy-ricch-war-baby-lyrics',\n",
       " 'https://genius.com/Roddy-ricch-bacc-seat-lyrics',\n",
       " 'https://genius.com/Marshmello-and-roddy-ricch-project-dreams-lyrics',\n",
       " 'https://genius.com/Roddy-ricch-perfect-time-lyrics',\n",
       " 'https://genius.com/Roddy-ricch-late-at-night-lyrics',\n",
       " 'https://genius.com/Roddy-ricch-intro-lyrics',\n",
       " 'https://genius.com/Roddy-ricch-boom-boom-room-lyrics',\n",
       " 'https://genius.com/Roddy-ricch-fucc-it-up-lyrics',\n",
       " 'https://genius.com/Roddy-ricch-big-stepper-lyrics',\n",
       " 'https://genius.com/Roddy-ricch-aston-martin-truck-lyrics',\n",
       " 'https://genius.com/Roddy-ricch-peta-lyrics']"
      ]
     },
     "execution_count": 28,
     "metadata": {},
     "output_type": "execute_result"
    }
   ],
   "source": [
    "## Demo of request_song_url()\n",
    "request_song_url('Roddy Ricch', 20)"
   ]
  },
  {
   "attachments": {},
   "cell_type": "markdown",
   "metadata": {},
   "source": [
    "### Fetch lyrics from the URL's"
   ]
  },
  {
   "cell_type": "code",
   "execution_count": 35,
   "metadata": {},
   "outputs": [],
   "source": [
    "## Scrape lyrics from a Genius.com song URL\n",
    "def scrape_song_lyrics(url):\n",
    "    page = requests.get(url)\n",
    "    html = BeautifulSoup(page.text, 'html.parser')\n",
    "    lyrics = html.find('div', class_='Lyrics__Container-sc-1ynbvzw-5').get_text('\\n') # '\\n' is used to change the next line of lyrics to a new line\n",
    "\n",
    "    ## Remove identifiers like chorus, verse, etc.\n",
    "    lyrics = re.sub(r'\\[.*?\\]', '', lyrics)\n",
    "\n",
    "    ## Remove empty lines\n",
    "    lyrics = os.linesep.join([s for s in lyrics.splitlines() if s])\n",
    "\n",
    "    return lyrics"
   ]
  },
  {
   "cell_type": "code",
   "execution_count": 37,
   "metadata": {},
   "outputs": [
    {
     "name": "stdout",
     "output_type": "stream",
     "text": [
      "Whoa, whoa, whoa\n",
      "Whoa, whoa\n",
      "Whoa, whoa, whoa\n",
      "Whoa, whoa-whoa-whoa\n",
      "From out the streets, became a millionaire\n",
      "I know niggas started in the trap, and they still there\n",
      "'Member I was robbin', I bought jewelry and I still wear it\n",
      "Came a long way with all my niggas, and they still here\n",
      "My big bro behind bars, fighting two hundred years\n",
      "I got that call, I lost my dawg, and I don't know how to feel\n",
      "Gotta stay on savage time, you know it's war time\n",
      "I remember I ain't used to leave the house without my .45\n",
      "I ain't got no time\n",
      "'Member Pappy had the Mackie at the stop sign\n",
      "Shit was too, too real\n",
      "I got my Glock, and laid 'em down, nigga, you knew the deal\n",
      "That's why I moved to the Hills, and I'm new to it\n",
      "'Cause I ain't sure why my dawg had to make the news reel\n",
      "Got promethazine in my eyes, I'm cryin' purple tears\n",
      "The streets left me cold-hearted, they hurt me still\n",
      "Uh, and that's why I'm on tour, that's why my house a resort\n",
      "That's why I got the four by four\n",
      "I remember when I was low, tryna trap in front of the store\n",
      "Hop fences on the police, from handcuffs to Rollies\n",
      "These hoes didn't know a nigga, now she claim she know me\n",
      "I been counting' up the bag, yeah, yeah\n",
      "I get the load on the bag, I'm fuckin' up yens\n",
      "I go get the birdie, birdie, nigga, I need some hens\n",
      "Thirty before thirty, I been settin' trends\n",
      "Hop on the Forbes, I hop on the Forbes, I hop on the Forbes\n",
      "I been countin' millions every time I board\n",
      "Spend your whole budget in the designer store\n",
      "Walk inside my closet, it's designer galore\n",
      "Bad bitch give me ya-ya in an Aventador\n",
      "Bad bitch give me ne-e-e-e-e-e-e-eck\n",
      "Flooded my wrist, it's wet, wet, wet, wet, wet, wet, wet, wet\n",
      "I'm boutta pack up the whole house, put it inside the suitcase\n",
      "Put my dick inside her mouth like it's Crest toothpaste\n",
      "Yeah, she gave me head, like a toupée, huh\n",
      "Got twenty hoes, they all my roommates, huh\n",
      "Ten in the bed, ten in the pool, bae, huh\n",
      "I need some bread, been trappin' for two days\n",
      "If he rockin' with the opps, we gotta wet the block\n",
      "Got my Glock in the Dior, but I got on Gucci socks\n",
      "Drip too hard, you can't ride this wave\n",
      "Put my baby mama and my mom in a Bentayga\n"
     ]
    }
   ],
   "source": [
    "## Demo of scrape_song_lyrics()\n",
    "print(scrape_song_lyrics('https://genius.com/Roddy-ricch-intro-lyrics'))"
   ]
  },
  {
   "attachments": {},
   "cell_type": "markdown",
   "metadata": {},
   "source": [
    "### Loop through all URL's and write lyrics to one file"
   ]
  },
  {
   "cell_type": "code",
   "execution_count": 48,
   "metadata": {},
   "outputs": [],
   "source": [
    "def write_lyrics_to_file(artist_name, song_count):\n",
    "    f = open('lyrics/' + artist_name.lower() + '.txt', 'wb')\n",
    "    urls = request_song_url(artist_name, song_count)\n",
    "    for url in urls:\n",
    "        lyrics = scrape_song_lyrics(url)\n",
    "        f.write(lyrics.encode('utf8'))\n",
    "    f.close()\n",
    "\n",
    "    num_lines = sum(1 for line in open('lyrics/' + artist_name.lower() + '.txt', 'rb'))\n",
    "    print('Wrote {} lines to file from {} songs'.format(num_lines, song_count))"
   ]
  },
  {
   "cell_type": "code",
   "execution_count": 51,
   "metadata": {},
   "outputs": [
    {
     "name": "stdout",
     "output_type": "stream",
     "text": [
      "Found 10 songs by Roddy Ricch\n",
      "Wrote 280 lines to file from 10 songs\n"
     ]
    }
   ],
   "source": [
    "## Demo of write_lyrics_to_file()\n",
    "write_lyrics_to_file('Roddy Ricch', 10)\n"
   ]
  }
 ],
 "metadata": {
  "kernelspec": {
   "display_name": "jpt-rap",
   "language": "python",
   "name": "rap"
  },
  "language_info": {
   "codemirror_mode": {
    "name": "ipython",
    "version": 3
   },
   "file_extension": ".py",
   "mimetype": "text/x-python",
   "name": "python",
   "nbconvert_exporter": "python",
   "pygments_lexer": "ipython3",
   "version": "3.11.3"
  },
  "orig_nbformat": 4
 },
 "nbformat": 4,
 "nbformat_minor": 2
}
